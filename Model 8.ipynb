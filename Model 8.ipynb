{
 "cells": [
  {
   "cell_type": "code",
   "execution_count": 1,
   "metadata": {},
   "outputs": [],
   "source": [
    "import tensorflow as tf\n",
    "from tensorflow import keras\n",
    "from tensorflow.keras.models import Model\n",
    "from tensorflow.keras.models import load_model\n",
    "from tensorflow.keras import layers, activations\n",
    "from tensorflow.keras.layers import *\n",
    "from tensorflow.keras.optimizers import *\n",
    "from tensorflow.keras.preprocessing.image import ImageDataGenerator\n",
    "from sklearn.metrics import mean_absolute_error\n",
    "\n",
    "from tinymlgen import port\n",
    "\n",
    "import numpy as np\n",
    "from numpy import asarray\n",
    "\n",
    "from utils.preprocessing import preprocessImage\n",
    "from utils.grad_cam import get_img_array, make_gradcam_heatmap, save_and_display_gradcam\n",
    "from utils.image_display import imageDisplay\n",
    "from utils.transform_data import transformData"
   ]
  },
  {
   "cell_type": "code",
   "execution_count": 2,
   "metadata": {},
   "outputs": [],
   "source": [
    "#Preprocessing\n",
    "resize_image = True\n",
    "#new_size = (480, 640)\n",
    "new_size = (640, 480)\n",
    "grey_scale = True\n",
    "rgb_or_grey = 3\n",
    "normalize_image = False\n",
    "thresholding = False\n",
    "erosion = False\n",
    "kernel = np.ones((2, 2), np.uint8)\n",
    "cut_image = False\n",
    "turn_image = False\n",
    "\n",
    "#Scaling\n",
    "min_max = True\n",
    "z_score = False\n",
    "\n",
    "min_max_labels = True\n",
    "z_score_labels = False\n",
    "\n",
    "#Training\n",
    "batch_size = 16\n",
    "epochs = 150\n",
    "\n",
    "if resize_image == True:\n",
    "    #new_size = (300, 225)\n",
    "    #new_size = (225, 300)\n",
    "    if turn_image == True:\n",
    "        #new_size = (160, 120)\n",
    "        new_size = (120, 160)\n",
    "        #new_size = (240, 320)\n",
    "    else:\n",
    "        new_size = (160, 120)\n",
    "        #new_size = (320, 240)\n",
    "\n",
    "if grey_scale == True:\n",
    "    rgb_or_grey = 1\n",
    "\n",
    "preprocessImage = preprocessImage()"
   ]
  },
  {
   "cell_type": "code",
   "execution_count": 3,
   "metadata": {},
   "outputs": [
    {
     "name": "stdout",
     "output_type": "stream",
     "text": [
      "imageFolderPath: ../Bilder/Manometer/Blindset final test\n"
     ]
    }
   ],
   "source": [
    "imageFoldersValidation = \"../Bilder/Manometer/Blindset final test\"\n",
    "\n",
    "#Load in Images and Clean DataFrame\n",
    "validation_images, validation_labels = preprocessImage.load_images(imageFoldersValidation, True, grey_scale, resize_image, new_size, normalize_image, thresholding, erosion, kernel, cut_image, turn_image)\n",
    "\n",
    "validation_images = validation_images.reshape(len(validation_labels), new_size[1], new_size[0], rgb_or_grey)\n",
    "nRows,nCols,nDims = validation_images.shape[1:]\n",
    "validation_images = validation_images.reshape(validation_images.shape[0], nRows, nCols, nDims)\n",
    "#Scale Data\n",
    "transformer = transformData()\n",
    "\n",
    "#Parameters Training data\n",
    "mean_value = 114.31817292906746\n",
    "standard_deviation = 77.30169303183406\n",
    "\n",
    "min_value = 0\n",
    "max_value = 255\n",
    "\n",
    "#Parameters Targetr Data\n",
    "mean_value_labels = 5.035714285714286\n",
    "standard_deviation_labels = 3.0150275548430043\n",
    "\n",
    "min_labels = 0\n",
    "max_labels = 10\n",
    "\n",
    "\n",
    "if min_max == True:\n",
    "    validation_images = transformer.scale_min_max(validation_images, min_value, max_value)\n",
    "\n",
    "if z_score == True:\n",
    "    validation_images = transformer.scale_z_score(validation_images, mean_value, standard_deviation)\n",
    "\n",
    "\n",
    "if min_max_labels == True:\n",
    "    validation_labels = transformer.scale_min_max(validation_labels, min_labels, max_labels)\n",
    "\n",
    "if z_score_labels == True:\n",
    "    validation_labels = transformer.scale_z_score(validation_labels, mean_value_labels, standard_deviation_labels)\n"
   ]
  },
  {
   "cell_type": "code",
   "execution_count": 7,
   "metadata": {},
   "outputs": [
    {
     "data": {
      "text/plain": [
       "{'True Value': 'Predction',\n",
       " 0.3: 0.7141892,\n",
       " 0.5: 0.7166469,\n",
       " 0.8: 0.7166469,\n",
       " 0.0: 0.74394083,\n",
       " 1.3: 1.020978,\n",
       " 1.5: 1.2430261,\n",
       " 1.7999999999999998: 2.051997,\n",
       " 1.0: 0.7825914,\n",
       " 10.0: 9.972564,\n",
       " 2.3: 2.568829,\n",
       " 2.5: 2.9531765,\n",
       " 2.8: 3.3104296,\n",
       " 2.0: 2.308887,\n",
       " 3.3: 3.7263255,\n",
       " 3.5: 3.9937673,\n",
       " 3.8: 4.3187423,\n",
       " 3.0: 3.2664628,\n",
       " 4.3: 4.9798245,\n",
       " 4.5: 5.1947594,\n",
       " 4.8: 5.382451,\n",
       " 4.0: 4.6771812,\n",
       " 5.300000000000001: 5.7224703,\n",
       " 5.5: 6.082982,\n",
       " 5.8: 6.21458,\n",
       " 5.0: 5.392228,\n",
       " 6.3: 6.772725,\n",
       " 6.5: 6.7973146,\n",
       " 6.799999999999999: 7.465171,\n",
       " 6.0: 6.343013,\n",
       " 7.3: 7.322664,\n",
       " 7.5: 8.11203,\n",
       " 7.800000000000001: 8.394283,\n",
       " 7.0: 7.6299233,\n",
       " 8.3: 8.675664,\n",
       " 8.5: 8.836678,\n",
       " 8.8: 9.059892,\n",
       " 8.0: 8.188402,\n",
       " 9.3: 9.8322525,\n",
       " 9.5: 10.283234,\n",
       " 9.8: 10.313925,\n",
       " 9.0: 9.42952}"
      ]
     },
     "execution_count": 7,
     "metadata": {},
     "output_type": "execute_result"
    }
   ],
   "source": [
    "image_num = len(validation_labels)-1\n",
    "\n",
    "path = \"models/model8/model.tflite\"\n",
    "\n",
    "from sklearn.metrics import mean_squared_error\n",
    "\n",
    "preds = []\n",
    "\n",
    "interpreter = tf.lite.Interpreter(model_path=path)\n",
    "interpreter.allocate_tensors()\n",
    "\n",
    "for element in range(len(validation_labels)):\n",
    "    \n",
    "    input_details = interpreter.get_input_details()\n",
    "    output_details = interpreter.get_output_details()\n",
    "\n",
    "    input_data = validation_images[element].reshape(1, 120, 160, 1)#.flatten()\n",
    "    input_data = np.float32(input_data)\n",
    "    interpreter.set_tensor(input_details[0]['index'], input_data)\n",
    "\n",
    "    predictions=interpreter.invoke()\n",
    "\n",
    "    output_data = interpreter.get_tensor(output_details[0]['index'])\n",
    "\n",
    "    output_data = output_data[0] * 10\n",
    "\n",
    "    preds.append(output_data)\n",
    "\n",
    "dict = {\"True Value\":\"Predction\"}\n",
    "for A, B in zip(validation_labels*10, preds):\n",
    "    dict[A] = B[0]\n",
    "\n",
    "dict\n"
   ]
  },
  {
   "cell_type": "code",
   "execution_count": 9,
   "metadata": {},
   "outputs": [
    {
     "data": {
      "text/plain": [
       "0.42050620143006484"
      ]
     },
     "execution_count": 9,
     "metadata": {},
     "output_type": "execute_result"
    }
   ],
   "source": [
    "errors = mean_absolute_error(validation_labels*10, preds)\n",
    "errors"
   ]
  }
 ],
 "metadata": {
  "kernelspec": {
   "display_name": "tf_gpu",
   "language": "python",
   "name": "python3"
  },
  "language_info": {
   "codemirror_mode": {
    "name": "ipython",
    "version": 3
   },
   "file_extension": ".py",
   "mimetype": "text/x-python",
   "name": "python",
   "nbconvert_exporter": "python",
   "pygments_lexer": "ipython3",
   "version": "3.9.7"
  }
 },
 "nbformat": 4,
 "nbformat_minor": 2
}
